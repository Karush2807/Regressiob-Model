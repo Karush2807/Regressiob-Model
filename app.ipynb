{
 "cells": [
  {
   "cell_type": "code",
   "execution_count": 1,
   "metadata": {},
   "outputs": [],
   "source": [
    "import pandas as pd"
   ]
  },
  {
   "cell_type": "code",
   "execution_count": 2,
   "metadata": {},
   "outputs": [],
   "source": [
    "#setting the dara directory\n",
    "df= './data/smartwatches.csv'\n",
    "df = pd.read_csv(df)\n",
    "\n",
    "\n",
    "#code to remove duplicates from the given data\n",
    "df.drop_duplicates(subset=None, keep='first', inplace=True)\n"
   ]
  },
  {
   "cell_type": "code",
   "execution_count": 3,
   "metadata": {},
   "outputs": [
    {
     "data": {
      "text/html": [
       "<div>\n",
       "<style scoped>\n",
       "    .dataframe tbody tr th:only-of-type {\n",
       "        vertical-align: middle;\n",
       "    }\n",
       "\n",
       "    .dataframe tbody tr th {\n",
       "        vertical-align: top;\n",
       "    }\n",
       "\n",
       "    .dataframe thead th {\n",
       "        text-align: right;\n",
       "    }\n",
       "</style>\n",
       "<table border=\"1\" class=\"dataframe\">\n",
       "  <thead>\n",
       "    <tr style=\"text-align: right;\">\n",
       "      <th></th>\n",
       "      <th>Unnamed: 0</th>\n",
       "      <th>Brand</th>\n",
       "      <th>Current Price</th>\n",
       "      <th>Original Price</th>\n",
       "      <th>Discount Percentage</th>\n",
       "      <th>Rating</th>\n",
       "      <th>Number OF Ratings</th>\n",
       "      <th>Model Name</th>\n",
       "      <th>Dial Shape</th>\n",
       "      <th>Strap Color</th>\n",
       "      <th>Strap Material</th>\n",
       "      <th>Touchscreen</th>\n",
       "      <th>Battery Life (Days)</th>\n",
       "      <th>Bluetooth</th>\n",
       "      <th>Display Size</th>\n",
       "      <th>Weight</th>\n",
       "    </tr>\n",
       "  </thead>\n",
       "  <tbody>\n",
       "    <tr>\n",
       "      <th>0</th>\n",
       "      <td>0</td>\n",
       "      <td>noise</td>\n",
       "      <td>82990.0</td>\n",
       "      <td>89900.0</td>\n",
       "      <td>7.686318</td>\n",
       "      <td>4.0</td>\n",
       "      <td>65.0</td>\n",
       "      <td>Wrb-sw-colorfitpro4alpha-std-rgld_pnk</td>\n",
       "      <td>NaN</td>\n",
       "      <td>NaN</td>\n",
       "      <td>NaN</td>\n",
       "      <td>NaN</td>\n",
       "      <td>8.0</td>\n",
       "      <td>Yes</td>\n",
       "      <td>NaN</td>\n",
       "      <td>35 - 50 g</td>\n",
       "    </tr>\n",
       "    <tr>\n",
       "      <th>1</th>\n",
       "      <td>1</td>\n",
       "      <td>fire-boltt</td>\n",
       "      <td>3799.0</td>\n",
       "      <td>16999.0</td>\n",
       "      <td>77.651627</td>\n",
       "      <td>4.3</td>\n",
       "      <td>20788.0</td>\n",
       "      <td>BSW046</td>\n",
       "      <td>NaN</td>\n",
       "      <td>NaN</td>\n",
       "      <td>Silicon</td>\n",
       "      <td>Yes</td>\n",
       "      <td>3.5</td>\n",
       "      <td>Yes</td>\n",
       "      <td>1.8 inches</td>\n",
       "      <td>50 - 75 g</td>\n",
       "    </tr>\n",
       "    <tr>\n",
       "      <th>2</th>\n",
       "      <td>2</td>\n",
       "      <td>boat</td>\n",
       "      <td>1999.0</td>\n",
       "      <td>7990.0</td>\n",
       "      <td>74.981227</td>\n",
       "      <td>3.8</td>\n",
       "      <td>21724.0</td>\n",
       "      <td>Wave Call</td>\n",
       "      <td>NaN</td>\n",
       "      <td>NaN</td>\n",
       "      <td>Silicon</td>\n",
       "      <td>Yes</td>\n",
       "      <td>8.0</td>\n",
       "      <td>Yes</td>\n",
       "      <td>1.7 inches</td>\n",
       "      <td>35 - 50 g</td>\n",
       "    </tr>\n",
       "    <tr>\n",
       "      <th>3</th>\n",
       "      <td>3</td>\n",
       "      <td>fire-boltt</td>\n",
       "      <td>1799.0</td>\n",
       "      <td>19999.0</td>\n",
       "      <td>91.004550</td>\n",
       "      <td>4.3</td>\n",
       "      <td>13244.0</td>\n",
       "      <td>BSW053</td>\n",
       "      <td>NaN</td>\n",
       "      <td>NaN</td>\n",
       "      <td>Silicon</td>\n",
       "      <td>Yes</td>\n",
       "      <td>3.5</td>\n",
       "      <td>Yes</td>\n",
       "      <td>1.8 inches</td>\n",
       "      <td>75g +</td>\n",
       "    </tr>\n",
       "    <tr>\n",
       "      <th>4</th>\n",
       "      <td>4</td>\n",
       "      <td>noise</td>\n",
       "      <td>1599.0</td>\n",
       "      <td>4999.0</td>\n",
       "      <td>68.013603</td>\n",
       "      <td>4.1</td>\n",
       "      <td>13901.0</td>\n",
       "      <td>Wrb-sw-colorfitpulsegobuzz-std-blk_blk</td>\n",
       "      <td>NaN</td>\n",
       "      <td>NaN</td>\n",
       "      <td>Other</td>\n",
       "      <td>Yes</td>\n",
       "      <td>8.0</td>\n",
       "      <td>Yes</td>\n",
       "      <td>1.7 inches</td>\n",
       "      <td>35 - 50 g</td>\n",
       "    </tr>\n",
       "  </tbody>\n",
       "</table>\n",
       "</div>"
      ],
      "text/plain": [
       "   Unnamed: 0       Brand  Current Price  Original Price  Discount Percentage  \\\n",
       "0           0       noise        82990.0         89900.0             7.686318   \n",
       "1           1  fire-boltt         3799.0         16999.0            77.651627   \n",
       "2           2        boat         1999.0          7990.0            74.981227   \n",
       "3           3  fire-boltt         1799.0         19999.0            91.004550   \n",
       "4           4       noise         1599.0          4999.0            68.013603   \n",
       "\n",
       "   Rating  Number OF Ratings                              Model Name  \\\n",
       "0     4.0               65.0   Wrb-sw-colorfitpro4alpha-std-rgld_pnk   \n",
       "1     4.3            20788.0                                  BSW046   \n",
       "2     3.8            21724.0                               Wave Call   \n",
       "3     4.3            13244.0                                  BSW053   \n",
       "4     4.1            13901.0  Wrb-sw-colorfitpulsegobuzz-std-blk_blk   \n",
       "\n",
       "  Dial Shape Strap Color Strap Material Touchscreen  Battery Life (Days)  \\\n",
       "0        NaN         NaN            NaN         NaN                  8.0   \n",
       "1        NaN         NaN        Silicon         Yes                  3.5   \n",
       "2        NaN         NaN        Silicon         Yes                  8.0   \n",
       "3        NaN         NaN        Silicon         Yes                  3.5   \n",
       "4        NaN         NaN          Other         Yes                  8.0   \n",
       "\n",
       "  Bluetooth Display Size     Weight  \n",
       "0       Yes          NaN  35 - 50 g  \n",
       "1       Yes   1.8 inches  50 - 75 g  \n",
       "2       Yes   1.7 inches  35 - 50 g  \n",
       "3       Yes   1.8 inches      75g +  \n",
       "4       Yes   1.7 inches  35 - 50 g  "
      ]
     },
     "execution_count": 3,
     "metadata": {},
     "output_type": "execute_result"
    }
   ],
   "source": [
    "#viewing the data in tabular format ( top 5)\n",
    "df.head()"
   ]
  },
  {
   "cell_type": "markdown",
   "metadata": {},
   "source": [
    "1. Unnamed: 0--->remove"
   ]
  },
  {
   "cell_type": "code",
   "execution_count": 4,
   "metadata": {},
   "outputs": [
    {
     "data": {
      "text/plain": [
       "(450, 16)"
      ]
     },
     "execution_count": 4,
     "metadata": {},
     "output_type": "execute_result"
    }
   ],
   "source": [
    "df.shape #will give the shape of the data: pretty small dataset!!"
   ]
  },
  {
   "cell_type": "code",
   "execution_count": 5,
   "metadata": {},
   "outputs": [],
   "source": [
    "train_df= df.sample(frac=0.8, random_state=42) #will give us 80% data for training\n",
    "\n",
    "test_df=df.drop(train_df.index) #will give us 20% data for testing"
   ]
  },
  {
   "cell_type": "code",
   "execution_count": 6,
   "metadata": {},
   "outputs": [],
   "source": [
    "#resetting our inded\n",
    "\n",
    "train_df=train_df.reset_index()\n",
    "test_df=test_df.reset_index()"
   ]
  },
  {
   "cell_type": "code",
   "execution_count": 7,
   "metadata": {},
   "outputs": [
    {
     "name": "stdout",
     "output_type": "stream",
     "text": [
      "(360, 17) (90, 17)\n"
     ]
    }
   ],
   "source": [
    "print( train_df.shape, test_df.shape)"
   ]
  },
  {
   "cell_type": "code",
   "execution_count": 8,
   "metadata": {},
   "outputs": [
    {
     "data": {
      "text/plain": [
       "index                    int64\n",
       "Unnamed: 0               int64\n",
       "Brand                   object\n",
       "Current Price          float64\n",
       "Original Price         float64\n",
       "Discount Percentage    float64\n",
       "Rating                 float64\n",
       "Number OF Ratings      float64\n",
       "Model Name              object\n",
       "Dial Shape              object\n",
       "Strap Color             object\n",
       "Strap Material          object\n",
       "Touchscreen             object\n",
       "Battery Life (Days)    float64\n",
       "Bluetooth               object\n",
       "Display Size            object\n",
       "Weight                  object\n",
       "dtype: object"
      ]
     },
     "execution_count": 8,
     "metadata": {},
     "output_type": "execute_result"
    }
   ],
   "source": [
    "train_df.dtypes"
   ]
  },
  {
   "cell_type": "code",
   "execution_count": 9,
   "metadata": {},
   "outputs": [
    {
     "data": {
      "text/plain": [
       "index                    0\n",
       "Unnamed: 0               0\n",
       "Brand                    0\n",
       "Current Price            6\n",
       "Original Price          56\n",
       "Discount Percentage     56\n",
       "Rating                   4\n",
       "Number OF Ratings       45\n",
       "Model Name              30\n",
       "Dial Shape             100\n",
       "Strap Color            100\n",
       "Strap Material          56\n",
       "Touchscreen             31\n",
       "Battery Life (Days)     30\n",
       "Bluetooth                5\n",
       "Display Size            27\n",
       "Weight                 149\n",
       "dtype: int64"
      ]
     },
     "execution_count": 9,
     "metadata": {},
     "output_type": "execute_result"
    }
   ],
   "source": [
    "train_df.isna().sum() #will give sum of all null values in the data"
   ]
  },
  {
   "cell_type": "code",
   "execution_count": 10,
   "metadata": {},
   "outputs": [
    {
     "name": "stdout",
     "output_type": "stream",
     "text": [
      "<class 'pandas.core.frame.DataFrame'>\n",
      "RangeIndex: 360 entries, 0 to 359\n",
      "Data columns (total 17 columns):\n",
      " #   Column               Non-Null Count  Dtype  \n",
      "---  ------               --------------  -----  \n",
      " 0   index                360 non-null    int64  \n",
      " 1   Unnamed: 0           360 non-null    int64  \n",
      " 2   Brand                360 non-null    object \n",
      " 3   Current Price        354 non-null    float64\n",
      " 4   Original Price       304 non-null    float64\n",
      " 5   Discount Percentage  304 non-null    float64\n",
      " 6   Rating               356 non-null    float64\n",
      " 7   Number OF Ratings    315 non-null    float64\n",
      " 8   Model Name           330 non-null    object \n",
      " 9   Dial Shape           260 non-null    object \n",
      " 10  Strap Color          260 non-null    object \n",
      " 11  Strap Material       304 non-null    object \n",
      " 12  Touchscreen          329 non-null    object \n",
      " 13  Battery Life (Days)  330 non-null    float64\n",
      " 14  Bluetooth            355 non-null    object \n",
      " 15  Display Size         333 non-null    object \n",
      " 16  Weight               211 non-null    object \n",
      "dtypes: float64(6), int64(2), object(9)\n",
      "memory usage: 47.9+ KB\n"
     ]
    }
   ],
   "source": [
    "train_df.info() #will give the info of the data, now the indexes are refreshed ffor the following"
   ]
  },
  {
   "cell_type": "code",
   "execution_count": 11,
   "metadata": {},
   "outputs": [],
   "source": [
    "numerical_data=[feature for feature in train_df.columns if train_df[feature].dtype!=object] #ye wo data hai jo mathematcal operations support krta hai, statistical anakysis are avaiable here!!\n",
    "categorical_data=[feature for feature in train_df.columns if train_df[feature].dtype==object] #ye wo data jiski visualizatoion, pie-chart and bar plots se hoti hai, ye groups/categories me hoti hai basically with common features"
   ]
  },
  {
   "cell_type": "code",
   "execution_count": 12,
   "metadata": {},
   "outputs": [
    {
     "data": {
      "text/plain": [
       "(['index',\n",
       "  'Unnamed: 0',\n",
       "  'Current Price',\n",
       "  'Original Price',\n",
       "  'Discount Percentage',\n",
       "  'Rating',\n",
       "  'Number OF Ratings',\n",
       "  'Battery Life (Days)'],\n",
       " ['Brand',\n",
       "  'Model Name',\n",
       "  'Dial Shape',\n",
       "  'Strap Color',\n",
       "  'Strap Material',\n",
       "  'Touchscreen',\n",
       "  'Bluetooth',\n",
       "  'Display Size',\n",
       "  'Weight'])"
      ]
     },
     "execution_count": 12,
     "metadata": {},
     "output_type": "execute_result"
    }
   ],
   "source": [
    "numerical_data, categorical_data"
   ]
  },
  {
   "cell_type": "code",
   "execution_count": 13,
   "metadata": {},
   "outputs": [
    {
     "data": {
      "text/html": [
       "<div>\n",
       "<style scoped>\n",
       "    .dataframe tbody tr th:only-of-type {\n",
       "        vertical-align: middle;\n",
       "    }\n",
       "\n",
       "    .dataframe tbody tr th {\n",
       "        vertical-align: top;\n",
       "    }\n",
       "\n",
       "    .dataframe thead th {\n",
       "        text-align: right;\n",
       "    }\n",
       "</style>\n",
       "<table border=\"1\" class=\"dataframe\">\n",
       "  <thead>\n",
       "    <tr style=\"text-align: right;\">\n",
       "      <th></th>\n",
       "      <th>index</th>\n",
       "      <th>Unnamed: 0</th>\n",
       "      <th>Current Price</th>\n",
       "      <th>Original Price</th>\n",
       "      <th>Discount Percentage</th>\n",
       "      <th>Rating</th>\n",
       "      <th>Number OF Ratings</th>\n",
       "      <th>Battery Life (Days)</th>\n",
       "    </tr>\n",
       "  </thead>\n",
       "  <tbody>\n",
       "    <tr>\n",
       "      <th>count</th>\n",
       "      <td>360.000000</td>\n",
       "      <td>360.000000</td>\n",
       "      <td>354.000000</td>\n",
       "      <td>304.000000</td>\n",
       "      <td>304.000000</td>\n",
       "      <td>356.000000</td>\n",
       "      <td>315.000000</td>\n",
       "      <td>330.000000</td>\n",
       "    </tr>\n",
       "    <tr>\n",
       "      <th>mean</th>\n",
       "      <td>222.702778</td>\n",
       "      <td>222.702778</td>\n",
       "      <td>12514.378531</td>\n",
       "      <td>14415.835526</td>\n",
       "      <td>47.955347</td>\n",
       "      <td>4.027528</td>\n",
       "      <td>10671.815873</td>\n",
       "      <td>14.181970</td>\n",
       "    </tr>\n",
       "    <tr>\n",
       "      <th>std</th>\n",
       "      <td>130.632905</td>\n",
       "      <td>130.632905</td>\n",
       "      <td>16914.978666</td>\n",
       "      <td>15613.457236</td>\n",
       "      <td>24.696899</td>\n",
       "      <td>0.556828</td>\n",
       "      <td>27575.956948</td>\n",
       "      <td>7.661878</td>\n",
       "    </tr>\n",
       "    <tr>\n",
       "      <th>min</th>\n",
       "      <td>0.000000</td>\n",
       "      <td>0.000000</td>\n",
       "      <td>1199.000000</td>\n",
       "      <td>1669.000000</td>\n",
       "      <td>-79.688436</td>\n",
       "      <td>1.000000</td>\n",
       "      <td>1.000000</td>\n",
       "      <td>0.750000</td>\n",
       "    </tr>\n",
       "    <tr>\n",
       "      <th>25%</th>\n",
       "      <td>111.750000</td>\n",
       "      <td>111.750000</td>\n",
       "      <td>2126.000000</td>\n",
       "      <td>5999.000000</td>\n",
       "      <td>33.177427</td>\n",
       "      <td>3.900000</td>\n",
       "      <td>55.000000</td>\n",
       "      <td>8.000000</td>\n",
       "    </tr>\n",
       "    <tr>\n",
       "      <th>50%</th>\n",
       "      <td>222.500000</td>\n",
       "      <td>222.500000</td>\n",
       "      <td>3999.000000</td>\n",
       "      <td>7994.500000</td>\n",
       "      <td>53.068408</td>\n",
       "      <td>4.100000</td>\n",
       "      <td>830.000000</td>\n",
       "      <td>17.500000</td>\n",
       "    </tr>\n",
       "    <tr>\n",
       "      <th>75%</th>\n",
       "      <td>336.250000</td>\n",
       "      <td>336.250000</td>\n",
       "      <td>17367.250000</td>\n",
       "      <td>17996.000000</td>\n",
       "      <td>66.677780</td>\n",
       "      <td>4.300000</td>\n",
       "      <td>7576.500000</td>\n",
       "      <td>22.000000</td>\n",
       "    </tr>\n",
       "    <tr>\n",
       "      <th>max</th>\n",
       "      <td>448.000000</td>\n",
       "      <td>448.000000</td>\n",
       "      <td>98990.000000</td>\n",
       "      <td>96390.000000</td>\n",
       "      <td>91.004550</td>\n",
       "      <td>5.000000</td>\n",
       "      <td>275607.000000</td>\n",
       "      <td>22.000000</td>\n",
       "    </tr>\n",
       "  </tbody>\n",
       "</table>\n",
       "</div>"
      ],
      "text/plain": [
       "            index  Unnamed: 0  Current Price  Original Price  \\\n",
       "count  360.000000  360.000000     354.000000      304.000000   \n",
       "mean   222.702778  222.702778   12514.378531    14415.835526   \n",
       "std    130.632905  130.632905   16914.978666    15613.457236   \n",
       "min      0.000000    0.000000    1199.000000     1669.000000   \n",
       "25%    111.750000  111.750000    2126.000000     5999.000000   \n",
       "50%    222.500000  222.500000    3999.000000     7994.500000   \n",
       "75%    336.250000  336.250000   17367.250000    17996.000000   \n",
       "max    448.000000  448.000000   98990.000000    96390.000000   \n",
       "\n",
       "       Discount Percentage      Rating  Number OF Ratings  Battery Life (Days)  \n",
       "count           304.000000  356.000000         315.000000           330.000000  \n",
       "mean             47.955347    4.027528       10671.815873            14.181970  \n",
       "std              24.696899    0.556828       27575.956948             7.661878  \n",
       "min             -79.688436    1.000000           1.000000             0.750000  \n",
       "25%              33.177427    3.900000          55.000000             8.000000  \n",
       "50%              53.068408    4.100000         830.000000            17.500000  \n",
       "75%              66.677780    4.300000        7576.500000            22.000000  \n",
       "max              91.004550    5.000000      275607.000000            22.000000  "
      ]
     },
     "execution_count": 13,
     "metadata": {},
     "output_type": "execute_result"
    }
   ],
   "source": [
    "train_df[numerical_data].describe() #will give the statistical analysis of the numerical data"
   ]
  },
  {
   "cell_type": "code",
   "execution_count": 14,
   "metadata": {},
   "outputs": [
    {
     "data": {
      "text/html": [
       "<div>\n",
       "<style scoped>\n",
       "    .dataframe tbody tr th:only-of-type {\n",
       "        vertical-align: middle;\n",
       "    }\n",
       "\n",
       "    .dataframe tbody tr th {\n",
       "        vertical-align: top;\n",
       "    }\n",
       "\n",
       "    .dataframe thead th {\n",
       "        text-align: right;\n",
       "    }\n",
       "</style>\n",
       "<table border=\"1\" class=\"dataframe\">\n",
       "  <thead>\n",
       "    <tr style=\"text-align: right;\">\n",
       "      <th></th>\n",
       "      <th>index</th>\n",
       "      <th>Unnamed: 0</th>\n",
       "      <th>Current Price</th>\n",
       "      <th>Original Price</th>\n",
       "      <th>Discount Percentage</th>\n",
       "      <th>Rating</th>\n",
       "      <th>Number OF Ratings</th>\n",
       "      <th>Battery Life (Days)</th>\n",
       "    </tr>\n",
       "  </thead>\n",
       "  <tbody>\n",
       "    <tr>\n",
       "      <th>index</th>\n",
       "      <td>1.000000</td>\n",
       "      <td>1.000000</td>\n",
       "      <td>-0.100146</td>\n",
       "      <td>-0.084262</td>\n",
       "      <td>-0.123792</td>\n",
       "      <td>-0.247504</td>\n",
       "      <td>-0.187509</td>\n",
       "      <td>0.371223</td>\n",
       "    </tr>\n",
       "    <tr>\n",
       "      <th>Unnamed: 0</th>\n",
       "      <td>1.000000</td>\n",
       "      <td>1.000000</td>\n",
       "      <td>-0.100146</td>\n",
       "      <td>-0.084262</td>\n",
       "      <td>-0.123792</td>\n",
       "      <td>-0.247504</td>\n",
       "      <td>-0.187509</td>\n",
       "      <td>0.371223</td>\n",
       "    </tr>\n",
       "    <tr>\n",
       "      <th>Current Price</th>\n",
       "      <td>-0.100146</td>\n",
       "      <td>-0.100146</td>\n",
       "      <td>1.000000</td>\n",
       "      <td>0.971497</td>\n",
       "      <td>-0.602668</td>\n",
       "      <td>0.397179</td>\n",
       "      <td>-0.195773</td>\n",
       "      <td>0.030352</td>\n",
       "    </tr>\n",
       "    <tr>\n",
       "      <th>Original Price</th>\n",
       "      <td>-0.084262</td>\n",
       "      <td>-0.084262</td>\n",
       "      <td>0.971497</td>\n",
       "      <td>1.000000</td>\n",
       "      <td>-0.479494</td>\n",
       "      <td>0.325818</td>\n",
       "      <td>-0.180650</td>\n",
       "      <td>-0.132527</td>\n",
       "    </tr>\n",
       "    <tr>\n",
       "      <th>Discount Percentage</th>\n",
       "      <td>-0.123792</td>\n",
       "      <td>-0.123792</td>\n",
       "      <td>-0.602668</td>\n",
       "      <td>-0.479494</td>\n",
       "      <td>1.000000</td>\n",
       "      <td>-0.191073</td>\n",
       "      <td>0.235221</td>\n",
       "      <td>-0.011792</td>\n",
       "    </tr>\n",
       "    <tr>\n",
       "      <th>Rating</th>\n",
       "      <td>-0.247504</td>\n",
       "      <td>-0.247504</td>\n",
       "      <td>0.397179</td>\n",
       "      <td>0.325818</td>\n",
       "      <td>-0.191073</td>\n",
       "      <td>1.000000</td>\n",
       "      <td>0.085250</td>\n",
       "      <td>-0.102289</td>\n",
       "    </tr>\n",
       "    <tr>\n",
       "      <th>Number OF Ratings</th>\n",
       "      <td>-0.187509</td>\n",
       "      <td>-0.187509</td>\n",
       "      <td>-0.195773</td>\n",
       "      <td>-0.180650</td>\n",
       "      <td>0.235221</td>\n",
       "      <td>0.085250</td>\n",
       "      <td>1.000000</td>\n",
       "      <td>0.009617</td>\n",
       "    </tr>\n",
       "    <tr>\n",
       "      <th>Battery Life (Days)</th>\n",
       "      <td>0.371223</td>\n",
       "      <td>0.371223</td>\n",
       "      <td>0.030352</td>\n",
       "      <td>-0.132527</td>\n",
       "      <td>-0.011792</td>\n",
       "      <td>-0.102289</td>\n",
       "      <td>0.009617</td>\n",
       "      <td>1.000000</td>\n",
       "    </tr>\n",
       "  </tbody>\n",
       "</table>\n",
       "</div>"
      ],
      "text/plain": [
       "                        index  Unnamed: 0  Current Price  Original Price  \\\n",
       "index                1.000000    1.000000      -0.100146       -0.084262   \n",
       "Unnamed: 0           1.000000    1.000000      -0.100146       -0.084262   \n",
       "Current Price       -0.100146   -0.100146       1.000000        0.971497   \n",
       "Original Price      -0.084262   -0.084262       0.971497        1.000000   \n",
       "Discount Percentage -0.123792   -0.123792      -0.602668       -0.479494   \n",
       "Rating              -0.247504   -0.247504       0.397179        0.325818   \n",
       "Number OF Ratings   -0.187509   -0.187509      -0.195773       -0.180650   \n",
       "Battery Life (Days)  0.371223    0.371223       0.030352       -0.132527   \n",
       "\n",
       "                     Discount Percentage    Rating  Number OF Ratings  \\\n",
       "index                          -0.123792 -0.247504          -0.187509   \n",
       "Unnamed: 0                     -0.123792 -0.247504          -0.187509   \n",
       "Current Price                  -0.602668  0.397179          -0.195773   \n",
       "Original Price                 -0.479494  0.325818          -0.180650   \n",
       "Discount Percentage             1.000000 -0.191073           0.235221   \n",
       "Rating                         -0.191073  1.000000           0.085250   \n",
       "Number OF Ratings               0.235221  0.085250           1.000000   \n",
       "Battery Life (Days)            -0.011792 -0.102289           0.009617   \n",
       "\n",
       "                     Battery Life (Days)  \n",
       "index                           0.371223  \n",
       "Unnamed: 0                      0.371223  \n",
       "Current Price                   0.030352  \n",
       "Original Price                 -0.132527  \n",
       "Discount Percentage            -0.011792  \n",
       "Rating                         -0.102289  \n",
       "Number OF Ratings               0.009617  \n",
       "Battery Life (Days)             1.000000  "
      ]
     },
     "execution_count": 14,
     "metadata": {},
     "output_type": "execute_result"
    }
   ],
   "source": [
    "train_df[numerical_data].corr() #will give the correlation between the numerical data"
   ]
  },
  {
   "cell_type": "markdown",
   "metadata": {},
   "source": [
    "# Explanation of Skewness\n",
    "\n",
    "## Negative Skewness (Left-Skewed)\n",
    "\n",
    "- The left tail (smaller values) is longer or fatter than the right tail.\n",
    "- Most of the data values are concentrated on the right with a few smaller values on the left.\n",
    "\n",
    "## Positive Skewness (Right-Skewed)\n",
    "\n",
    "- The right tail (larger values) is longer or fatter than the left tail.\n",
    "- Most of the data values are concentrated on the left with a few larger values on the right.\n",
    "\n",
    "## Zero Skewness (Symmetric)\n",
    "\n",
    "- The tails on both sides of the mean are approximately equal in length.\n"
   ]
  },
  {
   "cell_type": "code",
   "execution_count": 15,
   "metadata": {},
   "outputs": [
    {
     "data": {
      "text/plain": [
       "index                  0.012368\n",
       "Unnamed: 0             0.012368\n",
       "Current Price          2.301689\n",
       "Original Price         2.734265\n",
       "Discount Percentage   -0.983632\n",
       "Rating                -1.589043\n",
       "Number OF Ratings      5.467630\n",
       "Battery Life (Days)   -0.190298\n",
       "dtype: float64"
      ]
     },
     "execution_count": 15,
     "metadata": {},
     "output_type": "execute_result"
    }
   ],
   "source": [
    "train_df[numerical_data].skew() #will give the skewness of the data"
   ]
  },
  {
   "cell_type": "code",
   "execution_count": 16,
   "metadata": {},
   "outputs": [
    {
     "data": {
      "text/html": [
       "<div>\n",
       "<style scoped>\n",
       "    .dataframe tbody tr th:only-of-type {\n",
       "        vertical-align: middle;\n",
       "    }\n",
       "\n",
       "    .dataframe tbody tr th {\n",
       "        vertical-align: top;\n",
       "    }\n",
       "\n",
       "    .dataframe thead th {\n",
       "        text-align: right;\n",
       "    }\n",
       "</style>\n",
       "<table border=\"1\" class=\"dataframe\">\n",
       "  <thead>\n",
       "    <tr style=\"text-align: right;\">\n",
       "      <th></th>\n",
       "      <th>Brand</th>\n",
       "      <th>Model Name</th>\n",
       "      <th>Dial Shape</th>\n",
       "      <th>Strap Color</th>\n",
       "      <th>Strap Material</th>\n",
       "      <th>Touchscreen</th>\n",
       "      <th>Bluetooth</th>\n",
       "      <th>Display Size</th>\n",
       "      <th>Weight</th>\n",
       "    </tr>\n",
       "  </thead>\n",
       "  <tbody>\n",
       "    <tr>\n",
       "      <th>count</th>\n",
       "      <td>360</td>\n",
       "      <td>330</td>\n",
       "      <td>260</td>\n",
       "      <td>260</td>\n",
       "      <td>304</td>\n",
       "      <td>329</td>\n",
       "      <td>355</td>\n",
       "      <td>333</td>\n",
       "      <td>211</td>\n",
       "    </tr>\n",
       "    <tr>\n",
       "      <th>unique</th>\n",
       "      <td>18</td>\n",
       "      <td>311</td>\n",
       "      <td>6</td>\n",
       "      <td>28</td>\n",
       "      <td>14</td>\n",
       "      <td>2</td>\n",
       "      <td>2</td>\n",
       "      <td>34</td>\n",
       "      <td>5</td>\n",
       "    </tr>\n",
       "    <tr>\n",
       "      <th>top</th>\n",
       "      <td>fire-boltt</td>\n",
       "      <td>ring</td>\n",
       "      <td>Circle</td>\n",
       "      <td>Black</td>\n",
       "      <td>Silicon</td>\n",
       "      <td>Yes</td>\n",
       "      <td>Yes</td>\n",
       "      <td>1.7 inches</td>\n",
       "      <td>20 - 35 g</td>\n",
       "    </tr>\n",
       "    <tr>\n",
       "      <th>freq</th>\n",
       "      <td>45</td>\n",
       "      <td>4</td>\n",
       "      <td>101</td>\n",
       "      <td>102</td>\n",
       "      <td>197</td>\n",
       "      <td>312</td>\n",
       "      <td>352</td>\n",
       "      <td>56</td>\n",
       "      <td>63</td>\n",
       "    </tr>\n",
       "  </tbody>\n",
       "</table>\n",
       "</div>"
      ],
      "text/plain": [
       "             Brand Model Name Dial Shape Strap Color Strap Material  \\\n",
       "count          360        330        260         260            304   \n",
       "unique          18        311          6          28             14   \n",
       "top     fire-boltt       ring     Circle       Black        Silicon   \n",
       "freq            45          4        101         102            197   \n",
       "\n",
       "       Touchscreen Bluetooth Display Size     Weight  \n",
       "count          329       355          333        211  \n",
       "unique           2         2           34          5  \n",
       "top            Yes       Yes   1.7 inches  20 - 35 g  \n",
       "freq           312       352           56         63  "
      ]
     },
     "execution_count": 16,
     "metadata": {},
     "output_type": "execute_result"
    }
   ],
   "source": [
    "train_df[categorical_data].describe() #will give the statistical analysis of the categorical data"
   ]
  },
  {
   "cell_type": "code",
   "execution_count": 18,
   "metadata": {},
   "outputs": [],
   "source": [
    "#all those steps performed above can be done using a simple package, panndas profiling\n",
    "\n",
    "import ydata_profiling as ydp\n"
   ]
  },
  {
   "cell_type": "code",
   "execution_count": 23,
   "metadata": {},
   "outputs": [
    {
     "name": "stderr",
     "output_type": "stream",
     "text": [
      "C:\\Users\\Piyush\\AppData\\Roaming\\Python\\Python311\\site-packages\\ydata_profiling\\profile_report.py:363: UserWarning: Try running command: 'pip install --upgrade Pillow' to avoid ValueError\n",
      "  warnings.warn(\n"
     ]
    },
    {
     "data": {
      "application/vnd.jupyter.widget-view+json": {
       "model_id": "2b1ee576ac1d40e3a31a6e10fd4b5b2f",
       "version_major": 2,
       "version_minor": 0
      },
      "text/plain": [
       "Summarize dataset:   0%|          | 0/5 [00:00<?, ?it/s]"
      ]
     },
     "metadata": {},
     "output_type": "display_data"
    },
    {
     "name": "stderr",
     "output_type": "stream",
     "text": [
      "c:\\ProgramData\\anaconda3\\Lib\\site-packages\\scipy\\stats\\_stats_py.py:5445: ConstantInputWarning: An input array is constant; the correlation coefficient is not defined.\n",
      "  warnings.warn(stats.ConstantInputWarning(warn_msg))\n",
      "c:\\ProgramData\\anaconda3\\Lib\\site-packages\\scipy\\stats\\_stats_py.py:5445: ConstantInputWarning: An input array is constant; the correlation coefficient is not defined.\n",
      "  warnings.warn(stats.ConstantInputWarning(warn_msg))\n"
     ]
    },
    {
     "data": {
      "application/vnd.jupyter.widget-view+json": {
       "model_id": "35553f3a05974b2f99f265552a5a8753",
       "version_major": 2,
       "version_minor": 0
      },
      "text/plain": [
       "Generate report structure:   0%|          | 0/1 [00:00<?, ?it/s]"
      ]
     },
     "metadata": {},
     "output_type": "display_data"
    },
    {
     "data": {
      "application/vnd.jupyter.widget-view+json": {
       "model_id": "f1399b67ce79465fbbf011dcb4e16459",
       "version_major": 2,
       "version_minor": 0
      },
      "text/plain": [
       "Render HTML:   0%|          | 0/1 [00:00<?, ?it/s]"
      ]
     },
     "metadata": {},
     "output_type": "display_data"
    },
    {
     "data": {
      "application/vnd.jupyter.widget-view+json": {
       "model_id": "ea6678463121411499a5c288d6e28f48",
       "version_major": 2,
       "version_minor": 0
      },
      "text/plain": [
       "Export report to file:   0%|          | 0/1 [00:00<?, ?it/s]"
      ]
     },
     "metadata": {},
     "output_type": "display_data"
    }
   ],
   "source": [
    "profile = ydp.ProfileReport(train_df, title=\"Train Data Profile Report\", explorative=True)\n",
    "profile.to_file(\"train_data_profile_report.html\")\n"
   ]
  },
  {
   "cell_type": "code",
   "execution_count": null,
   "metadata": {},
   "outputs": [],
   "source": []
  }
 ],
 "metadata": {
  "kernelspec": {
   "display_name": "base",
   "language": "python",
   "name": "python3"
  },
  "language_info": {
   "codemirror_mode": {
    "name": "ipython",
    "version": 3
   },
   "file_extension": ".py",
   "mimetype": "text/x-python",
   "name": "python",
   "nbconvert_exporter": "python",
   "pygments_lexer": "ipython3",
   "version": "3.11.5"
  }
 },
 "nbformat": 4,
 "nbformat_minor": 2
}
